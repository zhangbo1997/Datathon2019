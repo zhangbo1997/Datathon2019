{
 "cells": [
  {
   "cell_type": "markdown",
   "metadata": {},
   "source": [
    "##### Partners:\n",
    "##### Bo Zhang\n",
    "##### Xuanyu Wu\n",
    "##### Haoming Zhang"
   ]
  },
  {
   "cell_type": "code",
   "execution_count": null,
   "metadata": {},
   "outputs": [],
   "source": []
  },
  {
   "cell_type": "markdown",
   "metadata": {},
   "source": [
    "## Reading Data; Data Prep."
   ]
  },
  {
   "cell_type": "code",
   "execution_count": 444,
   "metadata": {},
   "outputs": [],
   "source": [
    "import os\n",
    "import pandas as pd\n",
    "import numpy as np\n",
    "import seaborn as sns\n",
    "import json\n",
    "import re"
   ]
  },
  {
   "cell_type": "code",
   "execution_count": 2,
   "metadata": {},
   "outputs": [
    {
     "data": {
      "text/plain": [
       "['sample.reviews.json',\n",
       " 'GOOGLE LOCAL.ipynb',\n",
       " 'reviews.clean.json',\n",
       " 'users.clean.json',\n",
       " '.ipynb_checkpoints',\n",
       " 'places.clean.json']"
      ]
     },
     "execution_count": 2,
     "metadata": {},
     "output_type": "execute_result"
    }
   ],
   "source": [
    "os.listdir()"
   ]
  },
  {
   "cell_type": "code",
   "execution_count": 11,
   "metadata": {},
   "outputs": [],
   "source": [
    "def parseData(fname):\n",
    "    data = []\n",
    "    with open(fname,'rb') as f:\n",
    "        for l in f.readlines():\n",
    "            data.append(eval(l))\n",
    "    return data"
   ]
  },
  {
   "cell_type": "code",
   "execution_count": 18,
   "metadata": {},
   "outputs": [],
   "source": [
    "reviews = []\n",
    "with open('sample.reviews.json') as f:\n",
    "    reviews = json.load(f)"
   ]
  },
  {
   "cell_type": "code",
   "execution_count": 20,
   "metadata": {},
   "outputs": [],
   "source": [
    "review_df = pd.DataFrame(reviews)"
   ]
  },
  {
   "cell_type": "code",
   "execution_count": 21,
   "metadata": {},
   "outputs": [],
   "source": [
    "user = parseData('users.clean.json')"
   ]
  },
  {
   "cell_type": "code",
   "execution_count": 22,
   "metadata": {},
   "outputs": [],
   "source": [
    "user_df = pd.DataFrame(user)"
   ]
  },
  {
   "cell_type": "code",
   "execution_count": 23,
   "metadata": {},
   "outputs": [],
   "source": [
    "places = parseData('places.clean.json')"
   ]
  },
  {
   "cell_type": "code",
   "execution_count": 24,
   "metadata": {},
   "outputs": [],
   "source": [
    "places_df = pd.DataFrame(places)"
   ]
  },
  {
   "cell_type": "code",
   "execution_count": null,
   "metadata": {},
   "outputs": [],
   "source": []
  },
  {
   "cell_type": "code",
   "execution_count": null,
   "metadata": {},
   "outputs": [],
   "source": []
  },
  {
   "cell_type": "markdown",
   "metadata": {},
   "source": [
    "##### We notice that more than 90% of the reviews have unique ids, which means that a lot of those users are \n",
    "##### inactive users, which is meaningless to analyze, thus we clean the data by ensuring that the each user and place\n",
    "##### have more than 3 comments."
   ]
  },
  {
   "cell_type": "code",
   "execution_count": 44,
   "metadata": {},
   "outputs": [],
   "source": [
    "# Select Active User\n",
    "user_count = review_df['gPlusUserId'].value_counts()\n",
    "active_user_id = user_count.where(user_count >3).dropna().index\n",
    "# Select Active Places\n",
    "place_count = review_df['gPlusPlaceId'].value_counts()\n",
    "active_place_id = place_count.where(place_count >3).dropna().index"
   ]
  },
  {
   "cell_type": "code",
   "execution_count": null,
   "metadata": {},
   "outputs": [],
   "source": [
    "## Valid User df and valid place df are those with active ids with active reviews"
   ]
  },
  {
   "cell_type": "code",
   "execution_count": 26,
   "metadata": {},
   "outputs": [],
   "source": [
    "valid_user_df = user_df[user_df['gPlusUserId'].isin(active_user_id)]\n"
   ]
  },
  {
   "cell_type": "code",
   "execution_count": 295,
   "metadata": {},
   "outputs": [],
   "source": [
    "valid_place_df = places_df[places_df['gPlusPlaceId'].isin(active_place_id)]"
   ]
  },
  {
   "cell_type": "code",
   "execution_count": null,
   "metadata": {},
   "outputs": [],
   "source": [
    "## select reviews with both user and places being active"
   ]
  },
  {
   "cell_type": "code",
   "execution_count": 27,
   "metadata": {},
   "outputs": [],
   "source": [
    "valid_review_df = review_df[review_df['gPlusUserId'].isin(active_user_id) & review_df['gPlusPlaceId'].isin(active_place_id)]"
   ]
  },
  {
   "cell_type": "code",
   "execution_count": 30,
   "metadata": {},
   "outputs": [
    {
     "data": {
      "text/plain": [
       "(5801, 8)"
      ]
     },
     "execution_count": 30,
     "metadata": {},
     "output_type": "execute_result"
    }
   ],
   "source": [
    "valid_review_df.shape"
   ]
  },
  {
   "cell_type": "code",
   "execution_count": null,
   "metadata": {},
   "outputs": [],
   "source": [
    "## Drop those not inside user_df and places_df"
   ]
  },
  {
   "cell_type": "code",
   "execution_count": 34,
   "metadata": {},
   "outputs": [],
   "source": [
    "valid_review_df_dropped = valid_review_df[valid_review_df['gPlusUserId'].isin(user_df['gPlusUserId']) & \\\n",
    "                                          valid_review_df['gPlusPlaceId'].isin(places_df['gPlusPlaceId'])]"
   ]
  },
  {
   "cell_type": "code",
   "execution_count": 47,
   "metadata": {},
   "outputs": [
    {
     "data": {
      "text/plain": [
       "(5929, 6)"
      ]
     },
     "execution_count": 47,
     "metadata": {},
     "output_type": "execute_result"
    }
   ],
   "source": [
    "valid_user_df.shape"
   ]
  },
  {
   "cell_type": "code",
   "execution_count": 296,
   "metadata": {
    "scrolled": true
   },
   "outputs": [
    {
     "data": {
      "text/plain": [
       "(7298, 8)"
      ]
     },
     "execution_count": 296,
     "metadata": {},
     "output_type": "execute_result"
    }
   ],
   "source": [
    "valid_place_df.shape"
   ]
  },
  {
   "cell_type": "code",
   "execution_count": 49,
   "metadata": {},
   "outputs": [
    {
     "data": {
      "text/plain": [
       "(4461, 8)"
      ]
     },
     "execution_count": 49,
     "metadata": {},
     "output_type": "execute_result"
    }
   ],
   "source": [
    "valid_review_df_dropped.shape"
   ]
  },
  {
   "cell_type": "markdown",
   "metadata": {},
   "source": [
    "# Task"
   ]
  },
  {
   "cell_type": "markdown",
   "metadata": {},
   "source": [
    "#### Task: We focus on predict the rating given a pair of random user and place."
   ]
  },
  {
   "cell_type": "markdown",
   "metadata": {},
   "source": [
    "#### Business Insight: If we can predict how likely a user would like a random place based on user's activities history and the characteristic of the place, we can recommend the places to users by ranking the ratings of places around them. "
   ]
  },
  {
   "cell_type": "markdown",
   "metadata": {},
   "source": [
    "## BaseLine Model"
   ]
  },
  {
   "cell_type": "markdown",
   "metadata": {},
   "source": [
    "#### BaseLine Model: we predict the rating by the mean of average rating of the user and the average rating of the place with equal weights."
   ]
  },
  {
   "cell_type": "code",
   "execution_count": 50,
   "metadata": {},
   "outputs": [],
   "source": [
    "from sklearn.utils import shuffle\n",
    "df = shuffle(valid_review_df_dropped)\n",
    "size = len(df)\n",
    "train_data = df[:int(size * 0.8)]\n",
    "validate_data = df[int(size * 0.8): int(size * 0.9)]\n",
    "test_data = df[int(size * 0.9):]"
   ]
  },
  {
   "cell_type": "code",
   "execution_count": 51,
   "metadata": {},
   "outputs": [],
   "source": [
    "user_rating_avg = train_data.groupby('gPlusUserId')['rating'].mean().to_dict()\n",
    "place_rating_avg = train_data.groupby('gPlusPlaceId')['rating'].mean().to_dict()\n",
    "total_avg = train_data['rating'].mean()"
   ]
  },
  {
   "cell_type": "code",
   "execution_count": 52,
   "metadata": {},
   "outputs": [
    {
     "data": {
      "text/plain": [
       "0.8264152661431119"
      ]
     },
     "execution_count": 52,
     "metadata": {},
     "output_type": "execute_result"
    }
   ],
   "source": [
    "def predict(row):\n",
    "    hasUser = row['gPlusUserId'] in user_rating_avg.keys()\n",
    "    hasPlace = row['gPlusPlaceId'] in place_rating_avg.keys()\n",
    "    if hasUser and hasPlace:\n",
    "        return (user_rating_avg[row['gPlusUserId']] + place_rating_avg[row['gPlusPlaceId']]) / 2\n",
    "    elif hasUser:\n",
    "        return user_rating_avg[row['gPlusUserId']]\n",
    "    elif hasPlace:\n",
    "        return place_rating_avg[row['gPlusPlaceId']]\n",
    "    else:\n",
    "        return total_avg\n",
    "predictions = validate_data.apply(predict, axis = 1)\n",
    "((validate_data['rating'] - predictions) ** 2).mean()"
   ]
  },
  {
   "cell_type": "code",
   "execution_count": null,
   "metadata": {},
   "outputs": [],
   "source": []
  },
  {
   "cell_type": "markdown",
   "metadata": {},
   "source": [
    "## Feature Engineering and Feature Augumentation and Data Imputation"
   ]
  },
  {
   "cell_type": "markdown",
   "metadata": {},
   "source": [
    "## User DataFrame"
   ]
  },
  {
   "cell_type": "markdown",
   "metadata": {},
   "source": [
    "###### Deal with hours:\n",
    "###### Here we get opening hours, closing hours, length of opening and days of opening per week from the original \"hours\" column by feature augmentation."
   ]
  },
  {
   "cell_type": "code",
   "execution_count": 298,
   "metadata": {},
   "outputs": [
    {
     "name": "stderr",
     "output_type": "stream",
     "text": [
      "/anaconda3/lib/python3.7/site-packages/numpy/core/fromnumeric.py:2920: RuntimeWarning: Mean of empty slice.\n",
      "  out=out, **kwargs)\n",
      "/anaconda3/lib/python3.7/site-packages/numpy/core/_methods.py:85: RuntimeWarning: invalid value encountered in double_scalars\n",
      "  ret = ret.dtype.type(ret / rcount)\n"
     ]
    }
   ],
   "source": [
    "open_times = []\n",
    "close_times = []\n",
    "num_dayss = []\n",
    "\n",
    "existence = valid_place_df['hours'].isna()\n",
    "\n",
    "for i in range(len(valid_place_df)):\n",
    "    \n",
    "    l = valid_place_df['hours'].iloc[i]\n",
    "    \n",
    "    if existence.iloc[i]:\n",
    "        open_times.append(np.nan)\n",
    "        close_times.append(np.nan)\n",
    "        num_dayss.append(np.nan)\n",
    "        continue\n",
    "    num_days = len(l)\n",
    "    \n",
    "    open_time = []\n",
    "    close_time = []\n",
    "    opening_time_lst = [day[1][0][0] for day in l]\n",
    "    for time in opening_time_lst:\n",
    "        if '24' in time:\n",
    "            open_time.append(0)\n",
    "            close_time.append(24)\n",
    "            \n",
    "        if '-' in time:\n",
    "            open_time_str = time.split('-')[0]\n",
    "            close_time_str = time.split('-')[2]\n",
    "            open_time_num = 0\n",
    "            close_time_num = 0\n",
    "\n",
    "            if 'am' in open_time_str:\n",
    "                open_time_num = int(open_time_str[:-6])\n",
    "            elif 'pm' in open_time_str:\n",
    "                open_time_num = int(open_time_str[:-6]) + 12\n",
    "            else:\n",
    "                continue\n",
    "            open_time.append(open_time_num)\n",
    "\n",
    "            if 'am' in close_time_str:\n",
    "                close_time_num = int(close_time_str[:-6])\n",
    "            elif 'pm' in close_time_str:\n",
    "                close_time_num = int(close_time_str[:-6]) + 12\n",
    "            else:\n",
    "                continue\n",
    "            close_time.append(close_time_num)\n",
    "    avg_open_time = np.mean(open_time)\n",
    "    open_times.append(avg_open_time)\n",
    "    avg_close_time = np.mean(close_time)\n",
    "    close_times.append(avg_close_time)\n",
    "    num_dayss.append(num_days)"
   ]
  },
  {
   "cell_type": "code",
   "execution_count": 299,
   "metadata": {},
   "outputs": [
    {
     "name": "stderr",
     "output_type": "stream",
     "text": [
      "/anaconda3/lib/python3.7/site-packages/ipykernel_launcher.py:1: SettingWithCopyWarning: \n",
      "A value is trying to be set on a copy of a slice from a DataFrame.\n",
      "Try using .loc[row_indexer,col_indexer] = value instead\n",
      "\n",
      "See the caveats in the documentation: http://pandas.pydata.org/pandas-docs/stable/indexing.html#indexing-view-versus-copy\n",
      "  \"\"\"Entry point for launching an IPython kernel.\n",
      "/anaconda3/lib/python3.7/site-packages/ipykernel_launcher.py:2: SettingWithCopyWarning: \n",
      "A value is trying to be set on a copy of a slice from a DataFrame.\n",
      "Try using .loc[row_indexer,col_indexer] = value instead\n",
      "\n",
      "See the caveats in the documentation: http://pandas.pydata.org/pandas-docs/stable/indexing.html#indexing-view-versus-copy\n",
      "  \n",
      "/anaconda3/lib/python3.7/site-packages/ipykernel_launcher.py:3: SettingWithCopyWarning: \n",
      "A value is trying to be set on a copy of a slice from a DataFrame.\n",
      "Try using .loc[row_indexer,col_indexer] = value instead\n",
      "\n",
      "See the caveats in the documentation: http://pandas.pydata.org/pandas-docs/stable/indexing.html#indexing-view-versus-copy\n",
      "  This is separate from the ipykernel package so we can avoid doing imports until\n"
     ]
    }
   ],
   "source": [
    "valid_place_df['open_times'] = open_times\n",
    "valid_place_df['close_times'] = close_times\n",
    "valid_place_df['num_days'] = num_dayss"
   ]
  },
  {
   "cell_type": "markdown",
   "metadata": {},
   "source": [
    "###### deal with price"
   ]
  },
  {
   "cell_type": "code",
   "execution_count": 301,
   "metadata": {},
   "outputs": [
    {
     "name": "stderr",
     "output_type": "stream",
     "text": [
      "/anaconda3/lib/python3.7/site-packages/ipykernel_launcher.py:1: SettingWithCopyWarning: \n",
      "A value is trying to be set on a copy of a slice from a DataFrame.\n",
      "Try using .loc[row_indexer,col_indexer] = value instead\n",
      "\n",
      "See the caveats in the documentation: http://pandas.pydata.org/pandas-docs/stable/indexing.html#indexing-view-versus-copy\n",
      "  \"\"\"Entry point for launching an IPython kernel.\n"
     ]
    }
   ],
   "source": [
    "valid_place_df['price_size'] = valid_place_df['price'].apply(lambda x: 0 if x is None else len(x))"
   ]
  },
  {
   "cell_type": "markdown",
   "metadata": {},
   "source": [
    "###### deal with phone number by checking availablility of phone number"
   ]
  },
  {
   "cell_type": "code",
   "execution_count": 303,
   "metadata": {},
   "outputs": [
    {
     "name": "stderr",
     "output_type": "stream",
     "text": [
      "/anaconda3/lib/python3.7/site-packages/ipykernel_launcher.py:1: SettingWithCopyWarning: \n",
      "A value is trying to be set on a copy of a slice from a DataFrame.\n",
      "Try using .loc[row_indexer,col_indexer] = value instead\n",
      "\n",
      "See the caveats in the documentation: http://pandas.pydata.org/pandas-docs/stable/indexing.html#indexing-view-versus-copy\n",
      "  \"\"\"Entry point for launching an IPython kernel.\n"
     ]
    }
   ],
   "source": [
    "valid_place_df['phone_available'] = 1 - valid_place_df['phone'].isna()"
   ]
  },
  {
   "cell_type": "code",
   "execution_count": 304,
   "metadata": {},
   "outputs": [
    {
     "name": "stderr",
     "output_type": "stream",
     "text": [
      "/anaconda3/lib/python3.7/site-packages/ipykernel_launcher.py:1: SettingWithCopyWarning: \n",
      "A value is trying to be set on a copy of a slice from a DataFrame.\n",
      "Try using .loc[row_indexer,col_indexer] = value instead\n",
      "\n",
      "See the caveats in the documentation: http://pandas.pydata.org/pandas-docs/stable/indexing.html#indexing-view-versus-copy\n",
      "  \"\"\"Entry point for launching an IPython kernel.\n"
     ]
    }
   ],
   "source": [
    "valid_place_df['num_hours_opening'] = valid_place_df['close_times'] - valid_place_df['open_times']"
   ]
  },
  {
   "cell_type": "markdown",
   "metadata": {},
   "source": [
    "###### Data imputation of filling missing values."
   ]
  },
  {
   "cell_type": "code",
   "execution_count": 305,
   "metadata": {},
   "outputs": [],
   "source": [
    "val = valid_place_df['open_times'].loc[valid_place_df['open_times'].notna()].mean()\n",
    "valid_place_df['open_times'].fillna(val, inplace = True)"
   ]
  },
  {
   "cell_type": "code",
   "execution_count": 306,
   "metadata": {},
   "outputs": [],
   "source": [
    "val = valid_place_df['close_times'].loc[valid_place_df['close_times'].notna()].mean()\n",
    "valid_place_df['close_times'].fillna(val, inplace = True)\n",
    "val = valid_place_df['num_days'].loc[valid_place_df['num_days'].notna()].mean()\n",
    "valid_place_df['num_days'].fillna(val, inplace = True)\n",
    "val = valid_place_df['num_hours_opening'].loc[valid_place_df['num_hours_opening'].notna()].mean()\n",
    "valid_place_df['num_hours_opening'].fillna(val, inplace = True)"
   ]
  },
  {
   "cell_type": "code",
   "execution_count": 311,
   "metadata": {},
   "outputs": [],
   "source": [
    "val = valid_place_df['price_size'].loc[valid_place_df['price_size'] != 0].mean()"
   ]
  },
  {
   "cell_type": "code",
   "execution_count": 313,
   "metadata": {},
   "outputs": [
    {
     "name": "stderr",
     "output_type": "stream",
     "text": [
      "/anaconda3/lib/python3.7/site-packages/pandas/core/generic.py:5890: SettingWithCopyWarning: \n",
      "A value is trying to be set on a copy of a slice from a DataFrame\n",
      "\n",
      "See the caveats in the documentation: http://pandas.pydata.org/pandas-docs/stable/indexing.html#indexing-view-versus-copy\n",
      "  self._update_inplace(new_data)\n"
     ]
    }
   ],
   "source": [
    "valid_place_df['price_size'].replace(0, val,inplace = True)"
   ]
  },
  {
   "cell_type": "code",
   "execution_count": 324,
   "metadata": {},
   "outputs": [],
   "source": [
    "cleaned_place_df = valid_place_df"
   ]
  },
  {
   "cell_type": "code",
   "execution_count": 325,
   "metadata": {},
   "outputs": [],
   "source": [
    "cleaned_place_df.set_index('gPlusPlaceId', inplace=True)"
   ]
  },
  {
   "cell_type": "code",
   "execution_count": 326,
   "metadata": {},
   "outputs": [],
   "source": [
    "final_place_df = cleaned_place_df[cleaned_place_df.columns[7:]]"
   ]
  },
  {
   "cell_type": "code",
   "execution_count": 327,
   "metadata": {},
   "outputs": [],
   "source": [
    "val = final_place_df['price_size'].loc[final_place_df['price_size'] != 0].mean()"
   ]
  },
  {
   "cell_type": "code",
   "execution_count": 328,
   "metadata": {},
   "outputs": [
    {
     "name": "stderr",
     "output_type": "stream",
     "text": [
      "/anaconda3/lib/python3.7/site-packages/ipykernel_launcher.py:1: SettingWithCopyWarning: \n",
      "A value is trying to be set on a copy of a slice from a DataFrame.\n",
      "Try using .loc[row_indexer,col_indexer] = value instead\n",
      "\n",
      "See the caveats in the documentation: http://pandas.pydata.org/pandas-docs/stable/indexing.html#indexing-view-versus-copy\n",
      "  \"\"\"Entry point for launching an IPython kernel.\n"
     ]
    }
   ],
   "source": [
    "final_place_df['price_size'] = final_place_df['price_size'].replace(to_replace = 0, value = val)"
   ]
  },
  {
   "cell_type": "code",
   "execution_count": 332,
   "metadata": {},
   "outputs": [],
   "source": [
    "valid_user_df.set_index('gPlusUserId', inplace=True)"
   ]
  },
  {
   "cell_type": "code",
   "execution_count": null,
   "metadata": {},
   "outputs": [],
   "source": []
  },
  {
   "cell_type": "code",
   "execution_count": 333,
   "metadata": {},
   "outputs": [],
   "source": [
    "merged = valid_review_df_dropped.merge(final_place_df, right_index=True, left_on = 'gPlusPlaceId', how = 'left')"
   ]
  },
  {
   "cell_type": "code",
   "execution_count": 334,
   "metadata": {},
   "outputs": [],
   "source": [
    "user_interested_cols = ['open_times', 'close_times', 'num_days', 'price_size', 'num_hours_opening']"
   ]
  },
  {
   "cell_type": "code",
   "execution_count": 335,
   "metadata": {},
   "outputs": [],
   "source": [
    "user_avg_info = merged.groupby('gPlusUserId')[user_interested_cols].mean()"
   ]
  },
  {
   "cell_type": "code",
   "execution_count": 337,
   "metadata": {},
   "outputs": [],
   "source": [
    "final_user_df = user_avg_info.copy()"
   ]
  },
  {
   "cell_type": "code",
   "execution_count": null,
   "metadata": {},
   "outputs": [],
   "source": []
  },
  {
   "cell_type": "code",
   "execution_count": 361,
   "metadata": {},
   "outputs": [],
   "source": [
    "words = []\n",
    "for cat in list(valid_review_df_dropped.categories.values):\n",
    "    if cat is not None:\n",
    "        for l in cat:\n",
    "\n",
    "            for s in l.split():\n",
    "                if len(re.findall(r'[a-zA-Z]', s)) > 0:\n",
    "                    words.append(s)\n",
    "cat_counts = pd.Series(words).value_counts()\n",
    "common_cat = list(cat_counts.where(cat_counts > 100).dropna().index)"
   ]
  },
  {
   "cell_type": "code",
   "execution_count": 362,
   "metadata": {},
   "outputs": [],
   "source": [
    "df = valid_review_df_dropped#.dropna(subset = ['categories'])#.loc[valid_review_df_dropped['gPlusUserId'] == '110090296112763745586']\n",
    "user_rating_cat = {}\n",
    "for i in range(len(df)):\n",
    "    row = df.iloc[i]\n",
    "    if row['gPlusUserId'] not in user_rating_cat.keys():\n",
    "        user_rating_cat[row['gPlusUserId']] = {}\n",
    "        for cat in common_cat:\n",
    "            user_rating_cat[row['gPlusUserId']][cat] = []\n",
    "        user_rating_cat[row['gPlusUserId']]['Other'] = []\n",
    "    #if row['gPlusUserId'] in user_rating_cat.keys():\n",
    "    if row['categories'] is not None:\n",
    "        for words in row['categories']:\n",
    "            for w in words.split():\n",
    "                if w in common_cat:\n",
    "                    user_rating_cat[row['gPlusUserId']][w].append(row['rating'])\n",
    "                else:\n",
    "                    user_rating_cat[row['gPlusUserId']]['Other'].append(row['rating'])"
   ]
  },
  {
   "cell_type": "code",
   "execution_count": 364,
   "metadata": {},
   "outputs": [],
   "source": [
    "place_dict = {}\n",
    "for i in range(len(df)):\n",
    "    row = df.iloc[i]\n",
    "    place = row['gPlusPlaceId']\n",
    "\n",
    "    if place not in place_dict.keys():\n",
    "        place_dict[place] = []\n",
    "    if row['categories'] is not None:\n",
    "        for s in row['categories']:\n",
    "            for w in s.split():\n",
    "                if w in common_cat:\n",
    "                    place_dict[place].append(w)\n",
    "                else:\n",
    "                    place_dict[place].append('Other')\n",
    "place_dict = {s:list(set(place_dict[s])) for s in place_dict.keys()}"
   ]
  },
  {
   "cell_type": "markdown",
   "metadata": {},
   "source": [
    "# Exploratory Data Analysis"
   ]
  },
  {
   "cell_type": "code",
   "execution_count": 475,
   "metadata": {},
   "outputs": [
    {
     "name": "stdout",
     "output_type": "stream",
     "text": [
      "count    4461.000000\n",
      "mean        4.076440\n",
      "std         0.860041\n",
      "min         1.000000\n",
      "25%         4.000000\n",
      "50%         4.000000\n",
      "75%         5.000000\n",
      "max         5.000000\n",
      "Name: rating, dtype: float64\n"
     ]
    },
    {
     "data": {
      "text/plain": [
       "<matplotlib.axes._subplots.AxesSubplot at 0x1a21617668>"
      ]
     },
     "execution_count": 475,
     "metadata": {},
     "output_type": "execute_result"
    },
    {
     "data": {
      "image/png": "[encoded data removed]",
      "text/plain": [
       "<Figure size 432x288 with 1 Axes>"
      ]
     },
     "metadata": {
      "needs_background": "light"
     },
     "output_type": "display_data"
    }
   ],
   "source": [
    "%matplotlib inline\n",
    "rating = valid_review_df_dropped.rating\n",
    "print(rating.describe())\n",
    "rating.plot(kind='hist')"
   ]
  },
  {
   "cell_type": "code",
   "execution_count": 476,
   "metadata": {},
   "outputs": [
    {
     "data": {
      "text/html": [
       "<div>\n",
       "<style scoped>\n",
       "    .dataframe tbody tr th:only-of-type {\n",
       "        vertical-align: middle;\n",
       "    }\n",
       "\n",
       "    .dataframe tbody tr th {\n",
       "        vertical-align: top;\n",
       "    }\n",
       "\n",
       "    .dataframe thead th {\n",
       "        text-align: right;\n",
       "    }\n",
       "</style>\n",
       "<table border=\"1\" class=\"dataframe\">\n",
       "  <thead>\n",
       "    <tr style=\"text-align: right;\">\n",
       "      <th></th>\n",
       "      <th>open_times</th>\n",
       "      <th>close_times</th>\n",
       "      <th>num_days</th>\n",
       "      <th>price_size</th>\n",
       "      <th>phone_available</th>\n",
       "      <th>num_hours_opening</th>\n",
       "    </tr>\n",
       "  </thead>\n",
       "  <tbody>\n",
       "    <tr>\n",
       "      <th>count</th>\n",
       "      <td>7298.000000</td>\n",
       "      <td>7298.000000</td>\n",
       "      <td>7298.0</td>\n",
       "      <td>7298.000000</td>\n",
       "      <td>7298.000000</td>\n",
       "      <td>7298.000000</td>\n",
       "    </tr>\n",
       "    <tr>\n",
       "      <th>mean</th>\n",
       "      <td>9.486074</td>\n",
       "      <td>17.355601</td>\n",
       "      <td>7.0</td>\n",
       "      <td>2.057252</td>\n",
       "      <td>0.950945</td>\n",
       "      <td>7.869528</td>\n",
       "    </tr>\n",
       "    <tr>\n",
       "      <th>std</th>\n",
       "      <td>2.955122</td>\n",
       "      <td>4.815404</td>\n",
       "      <td>0.0</td>\n",
       "      <td>0.325923</td>\n",
       "      <td>0.215997</td>\n",
       "      <td>6.730079</td>\n",
       "    </tr>\n",
       "    <tr>\n",
       "      <th>min</th>\n",
       "      <td>0.000000</td>\n",
       "      <td>1.000000</td>\n",
       "      <td>7.0</td>\n",
       "      <td>1.000000</td>\n",
       "      <td>0.000000</td>\n",
       "      <td>-23.000000</td>\n",
       "    </tr>\n",
       "    <tr>\n",
       "      <th>25%</th>\n",
       "      <td>9.000000</td>\n",
       "      <td>17.355601</td>\n",
       "      <td>7.0</td>\n",
       "      <td>2.057252</td>\n",
       "      <td>1.000000</td>\n",
       "      <td>7.869528</td>\n",
       "    </tr>\n",
       "    <tr>\n",
       "      <th>50%</th>\n",
       "      <td>9.486074</td>\n",
       "      <td>17.355601</td>\n",
       "      <td>7.0</td>\n",
       "      <td>2.057252</td>\n",
       "      <td>1.000000</td>\n",
       "      <td>7.869528</td>\n",
       "    </tr>\n",
       "    <tr>\n",
       "      <th>75%</th>\n",
       "      <td>10.000000</td>\n",
       "      <td>20.142857</td>\n",
       "      <td>7.0</td>\n",
       "      <td>2.057252</td>\n",
       "      <td>1.000000</td>\n",
       "      <td>11.000000</td>\n",
       "    </tr>\n",
       "    <tr>\n",
       "      <th>max</th>\n",
       "      <td>24.000000</td>\n",
       "      <td>24.000000</td>\n",
       "      <td>7.0</td>\n",
       "      <td>3.000000</td>\n",
       "      <td>1.000000</td>\n",
       "      <td>24.000000</td>\n",
       "    </tr>\n",
       "  </tbody>\n",
       "</table>\n",
       "</div>"
      ],
      "text/plain": [
       "        open_times  close_times  num_days   price_size  phone_available  \\\n",
       "count  7298.000000  7298.000000    7298.0  7298.000000      7298.000000   \n",
       "mean      9.486074    17.355601       7.0     2.057252         0.950945   \n",
       "std       2.955122     4.815404       0.0     0.325923         0.215997   \n",
       "min       0.000000     1.000000       7.0     1.000000         0.000000   \n",
       "25%       9.000000    17.355601       7.0     2.057252         1.000000   \n",
       "50%       9.486074    17.355601       7.0     2.057252         1.000000   \n",
       "75%      10.000000    20.142857       7.0     2.057252         1.000000   \n",
       "max      24.000000    24.000000       7.0     3.000000         1.000000   \n",
       "\n",
       "       num_hours_opening  \n",
       "count        7298.000000  \n",
       "mean            7.869528  \n",
       "std             6.730079  \n",
       "min           -23.000000  \n",
       "25%             7.869528  \n",
       "50%             7.869528  \n",
       "75%            11.000000  \n",
       "max            24.000000  "
      ]
     },
     "execution_count": 476,
     "metadata": {},
     "output_type": "execute_result"
    }
   ],
   "source": [
    "final_place_df.describe()"
   ]
  },
  {
   "cell_type": "code",
   "execution_count": 483,
   "metadata": {},
   "outputs": [],
   "source": [
    "import matplotlib.pyplot as plt"
   ]
  },
  {
   "cell_type": "code",
   "execution_count": 487,
   "metadata": {},
   "outputs": [
    {
     "data": {
      "text/plain": [
       "<matplotlib.axes._subplots.AxesSubplot at 0x1a219faac8>"
      ]
     },
     "execution_count": 487,
     "metadata": {},
     "output_type": "execute_result"
    },
    {
     "data": {
      "image/png": "[encoded data removed]",
      "text/plain": [
       "<Figure size 432x288 with 1 Axes>"
      ]
     },
     "metadata": {
      "needs_background": "light"
     },
     "output_type": "display_data"
    }
   ],
   "source": [
    "final_place_df.open_times.plot(kind='hist')"
   ]
  },
  {
   "cell_type": "code",
   "execution_count": 488,
   "metadata": {},
   "outputs": [
    {
     "data": {
      "text/plain": [
       "<matplotlib.axes._subplots.AxesSubplot at 0x1a21aba518>"
      ]
     },
     "execution_count": 488,
     "metadata": {},
     "output_type": "execute_result"
    },
    {
     "data": {
      "image/png": "[encoded data removed]",
      "text/plain": [
       "<Figure size 432x288 with 1 Axes>"
      ]
     },
     "metadata": {
      "needs_background": "light"
     },
     "output_type": "display_data"
    }
   ],
   "source": [
    "final_place_df.close_times.plot(kind='hist')"
   ]
  },
  {
   "cell_type": "code",
   "execution_count": 491,
   "metadata": {},
   "outputs": [
    {
     "data": {
      "text/plain": [
       "<matplotlib.axes._subplots.AxesSubplot at 0x1a2250cbe0>"
      ]
     },
     "execution_count": 491,
     "metadata": {},
     "output_type": "execute_result"
    },
    {
     "data": {
      "image/png": "[encoded data removed]",
      "text/plain": [
       "<Figure size 432x288 with 1 Axes>"
      ]
     },
     "metadata": {
      "needs_background": "light"
     },
     "output_type": "display_data"
    }
   ],
   "source": [
    "final_place_df.num_hours_opening.plot(kind='hist')"
   ]
  },
  {
   "cell_type": "code",
   "execution_count": 489,
   "metadata": {
    "scrolled": false
   },
   "outputs": [
    {
     "data": {
      "text/plain": [
       "<matplotlib.axes._subplots.AxesSubplot at 0x1a222f5ef0>"
      ]
     },
     "execution_count": 489,
     "metadata": {},
     "output_type": "execute_result"
    },
    {
     "data": {
      "image/png": "[encoded data removed]",
      "text/plain": [
       "<Figure size 432x288 with 1 Axes>"
      ]
     },
     "metadata": {
      "needs_background": "light"
     },
     "output_type": "display_data"
    }
   ],
   "source": [
    "final_place_df.price_size.plot(kind='hist')"
   ]
  },
  {
   "cell_type": "code",
   "execution_count": 492,
   "metadata": {
    "scrolled": true
   },
   "outputs": [
    {
     "data": {
      "text/html": [
       "<div>\n",
       "<style scoped>\n",
       "    .dataframe tbody tr th:only-of-type {\n",
       "        vertical-align: middle;\n",
       "    }\n",
       "\n",
       "    .dataframe tbody tr th {\n",
       "        vertical-align: top;\n",
       "    }\n",
       "\n",
       "    .dataframe thead th {\n",
       "        text-align: right;\n",
       "    }\n",
       "</style>\n",
       "<table border=\"1\" class=\"dataframe\">\n",
       "  <thead>\n",
       "    <tr style=\"text-align: right;\">\n",
       "      <th></th>\n",
       "      <th>open_times</th>\n",
       "      <th>close_times</th>\n",
       "      <th>num_days</th>\n",
       "      <th>price_size</th>\n",
       "      <th>num_hours_opening</th>\n",
       "    </tr>\n",
       "  </thead>\n",
       "  <tbody>\n",
       "    <tr>\n",
       "      <th>count</th>\n",
       "      <td>2287.000000</td>\n",
       "      <td>2287.000000</td>\n",
       "      <td>2287.0</td>\n",
       "      <td>2287.000000</td>\n",
       "      <td>2287.000000</td>\n",
       "    </tr>\n",
       "    <tr>\n",
       "      <th>mean</th>\n",
       "      <td>9.953349</td>\n",
       "      <td>16.440953</td>\n",
       "      <td>7.0</td>\n",
       "      <td>2.039904</td>\n",
       "      <td>6.487604</td>\n",
       "    </tr>\n",
       "    <tr>\n",
       "      <th>std</th>\n",
       "      <td>3.101200</td>\n",
       "      <td>5.155286</td>\n",
       "      <td>0.0</td>\n",
       "      <td>0.393921</td>\n",
       "      <td>7.084057</td>\n",
       "    </tr>\n",
       "    <tr>\n",
       "      <th>min</th>\n",
       "      <td>0.000000</td>\n",
       "      <td>1.000000</td>\n",
       "      <td>7.0</td>\n",
       "      <td>1.000000</td>\n",
       "      <td>-22.714286</td>\n",
       "    </tr>\n",
       "    <tr>\n",
       "      <th>25%</th>\n",
       "      <td>9.142857</td>\n",
       "      <td>14.357143</td>\n",
       "      <td>7.0</td>\n",
       "      <td>2.000000</td>\n",
       "      <td>4.000000</td>\n",
       "    </tr>\n",
       "    <tr>\n",
       "      <th>50%</th>\n",
       "      <td>9.750000</td>\n",
       "      <td>17.355601</td>\n",
       "      <td>7.0</td>\n",
       "      <td>2.057252</td>\n",
       "      <td>7.869528</td>\n",
       "    </tr>\n",
       "    <tr>\n",
       "      <th>75%</th>\n",
       "      <td>11.000000</td>\n",
       "      <td>19.838900</td>\n",
       "      <td>7.0</td>\n",
       "      <td>2.057252</td>\n",
       "      <td>10.183096</td>\n",
       "    </tr>\n",
       "    <tr>\n",
       "      <th>max</th>\n",
       "      <td>24.000000</td>\n",
       "      <td>24.000000</td>\n",
       "      <td>7.0</td>\n",
       "      <td>3.000000</td>\n",
       "      <td>24.000000</td>\n",
       "    </tr>\n",
       "  </tbody>\n",
       "</table>\n",
       "</div>"
      ],
      "text/plain": [
       "        open_times  close_times  num_days   price_size  num_hours_opening\n",
       "count  2287.000000  2287.000000    2287.0  2287.000000        2287.000000\n",
       "mean      9.953349    16.440953       7.0     2.039904           6.487604\n",
       "std       3.101200     5.155286       0.0     0.393921           7.084057\n",
       "min       0.000000     1.000000       7.0     1.000000         -22.714286\n",
       "25%       9.142857    14.357143       7.0     2.000000           4.000000\n",
       "50%       9.750000    17.355601       7.0     2.057252           7.869528\n",
       "75%      11.000000    19.838900       7.0     2.057252          10.183096\n",
       "max      24.000000    24.000000       7.0     3.000000          24.000000"
      ]
     },
     "execution_count": 492,
     "metadata": {},
     "output_type": "execute_result"
    }
   ],
   "source": [
    "final_user_df.describe()"
   ]
  },
  {
   "cell_type": "code",
   "execution_count": null,
   "metadata": {},
   "outputs": [],
   "source": []
  },
  {
   "cell_type": "markdown",
   "metadata": {},
   "source": [
    "# Extract Features"
   ]
  },
  {
   "cell_type": "code",
   "execution_count": null,
   "metadata": {},
   "outputs": [],
   "source": []
  },
  {
   "cell_type": "code",
   "execution_count": 493,
   "metadata": {},
   "outputs": [],
   "source": [
    "mean_rate= valid_review_df_dropped.rating.mean()\n",
    "avg_place_feat = list(final_place_df.mean().values)\n",
    "avg_user_feat = list(final_user_df.mean().values)\n",
    "def feature(row):\n",
    "    #print(1)\n",
    "    # constant feature for wx+b\n",
    "    u = row.iloc[0]\n",
    "    p = row.iloc[1]\n",
    "    datum = [1]\n",
    "    # user data\n",
    "    #print(4)\n",
    "    if u in final_user_df.index:\n",
    "        u_d = list(final_user_df.loc[u].values)\n",
    "    else:\n",
    "        u_d = avg_user_feat\n",
    "    #print(3)\n",
    "    #place data\n",
    "    if p in final_place_df.index:\n",
    "        p_d = list(final_place_df.loc[p].values)\n",
    "    else:\n",
    "        p_d = avg_place_feat\n",
    "    # combined data\n",
    "    cd = []\n",
    "    cd += [u_d[0]-p_d[0]]\n",
    "    cd += [u_d[1]-p_d[1]]\n",
    "    cd += [u_d[3]-p_d[3]]\n",
    "    cd += [u_d[4]-p_d[5]]\n",
    "    cats = []\n",
    "    if p in place_dict:\n",
    "        cats = place_dict[p]\n",
    "    total = []\n",
    "    #print(2)\n",
    "    if u in user_rating_cat:\n",
    "        for c in cats:\n",
    "            total += user_rating_cat[u][c]\n",
    "        if len(total)>0:\n",
    "            avg = np.mean(total)\n",
    "        else:\n",
    "            concat = np.concatenate(list(user_rating_cat[u].values()))\n",
    "            if len(concat):\n",
    "                avg = np.mean(concat)\n",
    "            else:\n",
    "                avg = mean_rate\n",
    "    else:\n",
    "        avg = mean_rate\n",
    "#     print(datum)\n",
    "#     print(u_d)\n",
    "#     print(cd)\n",
    "#     print(p_d)\n",
    "    datum = datum + u_d + p_d +cd+[avg]\n",
    "    return datum"
   ]
  },
  {
   "cell_type": "code",
   "execution_count": 440,
   "metadata": {},
   "outputs": [
    {
     "data": {
      "text/html": [
       "<div>\n",
       "<style scoped>\n",
       "    .dataframe tbody tr th:only-of-type {\n",
       "        vertical-align: middle;\n",
       "    }\n",
       "\n",
       "    .dataframe tbody tr th {\n",
       "        vertical-align: top;\n",
       "    }\n",
       "\n",
       "    .dataframe thead th {\n",
       "        text-align: right;\n",
       "    }\n",
       "</style>\n",
       "<table border=\"1\" class=\"dataframe\">\n",
       "  <thead>\n",
       "    <tr style=\"text-align: right;\">\n",
       "      <th></th>\n",
       "      <th>gPlusUserId</th>\n",
       "      <th>gPlusPlaceId</th>\n",
       "    </tr>\n",
       "  </thead>\n",
       "  <tbody>\n",
       "    <tr>\n",
       "      <th>213</th>\n",
       "      <td>110090296112763745586</td>\n",
       "      <td>107762553597304912662</td>\n",
       "    </tr>\n",
       "    <tr>\n",
       "      <th>234</th>\n",
       "      <td>102172401918858106420</td>\n",
       "      <td>111280162645644452653</td>\n",
       "    </tr>\n",
       "    <tr>\n",
       "      <th>305</th>\n",
       "      <td>113939131914163721697</td>\n",
       "      <td>105539817238070523193</td>\n",
       "    </tr>\n",
       "    <tr>\n",
       "      <th>508</th>\n",
       "      <td>109529024903466465111</td>\n",
       "      <td>103566537416444715680</td>\n",
       "    </tr>\n",
       "    <tr>\n",
       "      <th>669</th>\n",
       "      <td>104960884941951050236</td>\n",
       "      <td>105361852687606942835</td>\n",
       "    </tr>\n",
       "  </tbody>\n",
       "</table>\n",
       "</div>"
      ],
      "text/plain": [
       "               gPlusUserId           gPlusPlaceId\n",
       "213  110090296112763745586  107762553597304912662\n",
       "234  102172401918858106420  111280162645644452653\n",
       "305  113939131914163721697  105539817238070523193\n",
       "508  109529024903466465111  103566537416444715680\n",
       "669  104960884941951050236  105361852687606942835"
      ]
     },
     "execution_count": 440,
     "metadata": {},
     "output_type": "execute_result"
    }
   ],
   "source": [
    "Original_X = valid_review_df_dropped[['gPlusUserId','gPlusPlaceId']]\n",
    "Y = valid_review_df_dropped.rating\n",
    "Original_X.head()"
   ]
  },
  {
   "cell_type": "code",
   "execution_count": 439,
   "metadata": {
    "scrolled": false
   },
   "outputs": [],
   "source": [
    "X = Original_X.apply(feature,axis=1)"
   ]
  },
  {
   "cell_type": "code",
   "execution_count": null,
   "metadata": {},
   "outputs": [],
   "source": []
  },
  {
   "cell_type": "markdown",
   "metadata": {},
   "source": [
    "# Train Model and Predict"
   ]
  },
  {
   "cell_type": "code",
   "execution_count": 451,
   "metadata": {},
   "outputs": [],
   "source": [
    "from sklearn.model_selection import train_test_split\n",
    "from sklearn.svm import SVR"
   ]
  },
  {
   "cell_type": "code",
   "execution_count": 456,
   "metadata": {},
   "outputs": [],
   "source": [
    "X_train, X_test, y_train, y_test = train_test_split(list(X), list(Y), test_size=0.1)"
   ]
  },
  {
   "cell_type": "code",
   "execution_count": 459,
   "metadata": {
    "scrolled": true
   },
   "outputs": [
    {
     "name": "stderr",
     "output_type": "stream",
     "text": [
      "/anaconda3/lib/python3.7/site-packages/sklearn/svm/base.py:196: FutureWarning: The default value of gamma will change from 'auto' to 'scale' in version 0.22 to account better for unscaled features. Set gamma explicitly to 'auto' or 'scale' to avoid this warning.\n",
      "  \"avoid this warning.\", FutureWarning)\n"
     ]
    },
    {
     "data": {
      "text/plain": [
       "0.27126172033829243"
      ]
     },
     "execution_count": 459,
     "metadata": {},
     "output_type": "execute_result"
    }
   ],
   "source": [
    "clf = SVR()\n",
    "clf.fit(X_train, y_train)\n",
    "predictions = clf.predict(X_test)\n",
    "# clf.score(X_test, y_test)\n",
    "sum((predictions - y_test)**2) / len(y_test)"
   ]
  },
  {
   "cell_type": "markdown",
   "metadata": {},
   "source": [
    "### The Mean Squared Error here we got from the linear SVR regression is 0.27126, which is a big jump from our baseline model (MSE = 0.826)"
   ]
  }
 ],
 "metadata": {
  "kernelspec": {
   "display_name": "Python 3",
   "language": "python",
   "name": "python3"
  },
  "language_info": {
   "codemirror_mode": {
    "name": "ipython",
    "version": 3
   },
   "file_extension": ".py",
   "mimetype": "text/x-python",
   "name": "python",
   "nbconvert_exporter": "python",
   "pygments_lexer": "ipython3",
   "version": "3.7.1"
  }
 },
 "nbformat": 4,
 "nbformat_minor": 2
}
